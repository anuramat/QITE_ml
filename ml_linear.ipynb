{
 "cells": [
  {
   "cell_type": "markdown",
   "id": "950f1da7",
   "metadata": {},
   "source": [
    "# Imports"
   ]
  },
  {
   "cell_type": "code",
   "execution_count": 2,
   "id": "ae86e754",
   "metadata": {},
   "outputs": [],
   "source": [
    "from ansatz import generate_pairs, apply_ansatz, n_qubits, n_theta"
   ]
  },
  {
   "cell_type": "code",
   "execution_count": 3,
   "id": "90ae7d54",
   "metadata": {},
   "outputs": [],
   "source": [
    "# %timeit generate_pairs"
   ]
  },
  {
   "cell_type": "code",
   "execution_count": 4,
   "id": "799fef2d",
   "metadata": {},
   "outputs": [],
   "source": [
    "from sklearn.linear_model import LinearRegression\n",
    "import numpy as np\n",
    "import matplotlib.pyplot as plt"
   ]
  },
  {
   "cell_type": "markdown",
   "id": "d70a739e",
   "metadata": {},
   "source": [
    "# Dataset definition"
   ]
  },
  {
   "cell_type": "code",
   "execution_count": 5,
   "id": "e695bdee",
   "metadata": {},
   "outputs": [],
   "source": [
    "train_data = generate_pairs(512)\n",
    "test_data = generate_pairs(512)\n",
    "train_x, train_y = train_data"
   ]
  },
  {
   "cell_type": "markdown",
   "id": "71294890",
   "metadata": {},
   "source": [
    "# Model"
   ]
  },
  {
   "cell_type": "code",
   "execution_count": 6,
   "id": "944ba137",
   "metadata": {},
   "outputs": [],
   "source": [
    "model = LinearRegression().fit(train_x, train_y)"
   ]
  },
  {
   "cell_type": "code",
   "execution_count": 9,
   "id": "47ff81e7",
   "metadata": {},
   "outputs": [],
   "source": [
    "y_pred = model.predict(train_x)"
   ]
  },
  {
   "cell_type": "code",
   "execution_count": 10,
   "id": "ce078109",
   "metadata": {},
   "outputs": [
    {
     "data": {
      "text/plain": [
       "array([-0.04174695,  0.85834459, -0.05148678, -0.37255744,  0.1889666 ,\n",
       "        0.03052983,  0.36233481,  0.37351012,  0.29279471,  0.25797569,\n",
       "       -0.31736371,  0.0743459 ,  0.43517763,  0.64448463, -0.25958429])"
      ]
     },
     "execution_count": 10,
     "metadata": {},
     "output_type": "execute_result"
    }
   ],
   "source": [
    "y_pred[0]"
   ]
  },
  {
   "cell_type": "code",
   "execution_count": 11,
   "id": "d799d881",
   "metadata": {},
   "outputs": [
    {
     "data": {
      "text/plain": [
       "array([ 0.96033368, -0.45969455,  0.95308107, -1.5744345 ,  0.78491288,\n",
       "        1.66122502, -0.73113941,  0.69466189,  2.56284003,  2.99478034,\n",
       "        0.03998391,  1.48520483,  1.01694817, -2.3144396 , -1.91547352])"
      ]
     },
     "execution_count": 11,
     "metadata": {},
     "output_type": "execute_result"
    }
   ],
   "source": [
    "train_y[0]"
   ]
  },
  {
   "cell_type": "markdown",
   "id": "fe576577",
   "metadata": {},
   "source": [
    "# Manual testing"
   ]
  },
  {
   "cell_type": "code",
   "execution_count": 135,
   "id": "cf5b7305",
   "metadata": {},
   "outputs": [],
   "source": [
    "model.eval()\n",
    "\n",
    "#pair = generate_pairs(1)\n",
    "#psi_true = torch.FloatTensor(pair[0])\n",
    "#theta_true = torch.FloatTensor(pair[1])\n",
    "\n",
    "psi_true, theta_true = next(iter(train_dataloader))\n",
    "\n",
    "theta_true = theta_true.type(torch.cuda.FloatTensor).to(device)\n",
    "psi_true = psi_true.type(torch.cuda.FloatTensor).to(device)\n",
    "\n",
    "theta_pred = model(psi_true)\n",
    "psi_pred = apply_ansatz(theta_pred.cpu().detach().numpy()[0])\n",
    "\n",
    "psi_true = psi_true.cpu().detach().numpy()[0]\n",
    "theta_pred = theta_pred.cpu().detach().numpy()[0]\n",
    "theta_true = theta_true.cpu().detach().numpy()[0]"
   ]
  },
  {
   "cell_type": "code",
   "execution_count": 136,
   "id": "06ad1377",
   "metadata": {},
   "outputs": [
    {
     "data": {
      "text/plain": [
       "array([ 0.13769707, -2.5084326 ,  0.8219688 , -0.57610226,  2.0594811 ,\n",
       "        2.9071941 ,  2.5755737 ,  0.35429505, -0.7238956 , -0.3781726 ,\n",
       "       -0.10268936, -0.45457563, -0.06386093,  0.05899178, -2.3657665 ],\n",
       "      dtype=float32)"
      ]
     },
     "execution_count": 136,
     "metadata": {},
     "output_type": "execute_result"
    }
   ],
   "source": [
    "theta_true"
   ]
  },
  {
   "cell_type": "code",
   "execution_count": 137,
   "id": "233d09ba",
   "metadata": {},
   "outputs": [
    {
     "data": {
      "text/plain": [
       "array([ 0.5854709 , -0.3857849 , -0.21052133, -0.07862001, -0.41407943,\n",
       "        0.26970392,  0.5936242 , -1.391507  ,  0.846265  ,  0.22752911,\n",
       "        0.04544682, -0.4745136 , -0.6196447 ,  0.05163885,  0.49995378],\n",
       "      dtype=float32)"
      ]
     },
     "execution_count": 137,
     "metadata": {},
     "output_type": "execute_result"
    }
   ],
   "source": [
    "theta_pred"
   ]
  },
  {
   "cell_type": "code",
   "execution_count": 138,
   "id": "65833091",
   "metadata": {},
   "outputs": [
    {
     "data": {
      "text/plain": [
       "array([ 0.03479514,  0.08244973,  0.00729992,  0.15860873,  0.10772569,\n",
       "       -0.12523602, -0.03564199, -0.342554  , -0.03461746, -0.04581406,\n",
       "       -0.00262007,  0.29865068, -0.00161154,  0.02781706,  0.04644791,\n",
       "        0.28488517,  0.04958229,  0.09799421,  0.00790307, -0.0196984 ,\n",
       "        0.04359046, -0.05697266, -0.02556625, -0.20651282, -0.05631585,\n",
       "       -0.0549357 , -0.00175036,  0.73281974,  0.02457093, -0.00320661,\n",
       "        0.03674925,  0.19531605], dtype=float32)"
      ]
     },
     "execution_count": 138,
     "metadata": {},
     "output_type": "execute_result"
    }
   ],
   "source": [
    "psi_true"
   ]
  },
  {
   "cell_type": "code",
   "execution_count": 139,
   "id": "a0cfe360",
   "metadata": {},
   "outputs": [
    {
     "data": {
      "text/plain": [
       "array([ 0.61152414,  0.01108412, -0.18773922, -0.04974421, -0.23130602,\n",
       "       -0.05484798,  0.14137306,  0.0403255 , -0.06594379,  0.13419099,\n",
       "       -0.14457441, -0.05076037,  0.04847438, -0.07169644,  0.04313973,\n",
       "        0.01614893, -0.03978299, -0.05942503,  0.08367969,  0.02757193,\n",
       "        0.02084326,  0.16014324, -0.14849347, -0.0495273 ,  0.29134964,\n",
       "       -0.04848998, -0.02398435, -0.00140898, -0.51435881,  0.02019232,\n",
       "        0.19002732,  0.04763556])"
      ]
     },
     "execution_count": 139,
     "metadata": {},
     "output_type": "execute_result"
    }
   ],
   "source": [
    "psi_pred"
   ]
  },
  {
   "cell_type": "code",
   "execution_count": null,
   "id": "f3078559",
   "metadata": {},
   "outputs": [],
   "source": []
  }
 ],
 "metadata": {
  "kernelspec": {
   "display_name": "Python 3 (ipykernel)",
   "language": "python",
   "name": "python3"
  },
  "language_info": {
   "codemirror_mode": {
    "name": "ipython",
    "version": 3
   },
   "file_extension": ".py",
   "mimetype": "text/x-python",
   "name": "python",
   "nbconvert_exporter": "python",
   "pygments_lexer": "ipython3",
   "version": "3.9.7"
  }
 },
 "nbformat": 4,
 "nbformat_minor": 5
}
