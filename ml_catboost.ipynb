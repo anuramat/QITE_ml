{
 "cells": [
  {
   "cell_type": "markdown",
   "id": "950f1da7",
   "metadata": {},
   "source": [
    "# Imports"
   ]
  },
  {
   "cell_type": "code",
   "execution_count": 5,
   "id": "ae86e754",
   "metadata": {},
   "outputs": [],
   "source": [
    "from ansatz import Ansatz"
   ]
  },
  {
   "cell_type": "code",
   "execution_count": 6,
   "id": "90ae7d54",
   "metadata": {},
   "outputs": [],
   "source": [
    "my_ansatz = Ansatz(n_qubits = 2, n_layers = 1)"
   ]
  },
  {
   "cell_type": "code",
   "execution_count": 7,
   "id": "799fef2d",
   "metadata": {},
   "outputs": [],
   "source": [
    "from catboost import CatBoostRegressor\n",
    "import numpy as np\n",
    "import matplotlib.pyplot as plt"
   ]
  },
  {
   "cell_type": "markdown",
   "id": "d70a739e",
   "metadata": {},
   "source": [
    "# Dataset definition"
   ]
  },
  {
   "cell_type": "code",
   "execution_count": 8,
   "id": "e695bdee",
   "metadata": {},
   "outputs": [],
   "source": [
    "train_data = my_ansatz.generate_pairs(1024*100)\n",
    "train_x, train_y = train_data"
   ]
  },
  {
   "cell_type": "markdown",
   "id": "71294890",
   "metadata": {},
   "source": [
    "# Model"
   ]
  },
  {
   "cell_type": "code",
   "execution_count": 9,
   "id": "944ba137",
   "metadata": {},
   "outputs": [],
   "source": [
    "model = CatBoostRegressor(iterations=2000, loss_function='MultiRMSE')"
   ]
  },
  {
   "cell_type": "code",
   "execution_count": 10,
   "id": "d4c7bdc1",
   "metadata": {
    "scrolled": true
   },
   "outputs": [
    {
     "name": "stdout",
     "output_type": "stream",
     "text": [
      "0:\tlearn: 3.5772458\ttotal: 168ms\tremaining: 5m 35s\n",
      "10:\tlearn: 3.1873931\ttotal: 327ms\tremaining: 59.2s\n",
      "20:\tlearn: 2.9440719\ttotal: 496ms\tremaining: 46.7s\n",
      "30:\tlearn: 2.7960740\ttotal: 651ms\tremaining: 41.4s\n",
      "40:\tlearn: 2.7065233\ttotal: 811ms\tremaining: 38.7s\n",
      "50:\tlearn: 2.6529929\ttotal: 965ms\tremaining: 36.9s\n",
      "60:\tlearn: 2.6207426\ttotal: 1.12s\tremaining: 35.6s\n",
      "70:\tlearn: 2.6012009\ttotal: 1.28s\tremaining: 34.7s\n",
      "80:\tlearn: 2.5893098\ttotal: 1.44s\tremaining: 34s\n",
      "90:\tlearn: 2.5817661\ttotal: 1.59s\tremaining: 33.3s\n",
      "100:\tlearn: 2.5770104\ttotal: 1.74s\tremaining: 32.7s\n",
      "110:\tlearn: 2.5736662\ttotal: 1.89s\tremaining: 32.2s\n",
      "120:\tlearn: 2.5714291\ttotal: 2.04s\tremaining: 31.7s\n",
      "130:\tlearn: 2.5699589\ttotal: 2.2s\tremaining: 31.4s\n",
      "140:\tlearn: 2.5688301\ttotal: 2.35s\tremaining: 31s\n",
      "150:\tlearn: 2.5680308\ttotal: 2.51s\tremaining: 30.7s\n",
      "160:\tlearn: 2.5673037\ttotal: 2.67s\tremaining: 30.4s\n",
      "170:\tlearn: 2.5668166\ttotal: 2.82s\tremaining: 30.2s\n",
      "180:\tlearn: 2.5663096\ttotal: 2.98s\tremaining: 29.9s\n",
      "190:\tlearn: 2.5659404\ttotal: 3.13s\tremaining: 29.7s\n",
      "200:\tlearn: 2.5656189\ttotal: 3.3s\tremaining: 29.5s\n",
      "210:\tlearn: 2.5653392\ttotal: 3.46s\tremaining: 29.3s\n",
      "220:\tlearn: 2.5650440\ttotal: 3.62s\tremaining: 29.2s\n",
      "230:\tlearn: 2.5648289\ttotal: 3.78s\tremaining: 28.9s\n",
      "240:\tlearn: 2.5646099\ttotal: 3.93s\tremaining: 28.7s\n",
      "250:\tlearn: 2.5644089\ttotal: 4.08s\tremaining: 28.4s\n",
      "260:\tlearn: 2.5642401\ttotal: 4.23s\tremaining: 28.2s\n",
      "270:\tlearn: 2.5640483\ttotal: 4.38s\tremaining: 28s\n",
      "280:\tlearn: 2.5639083\ttotal: 4.55s\tremaining: 27.8s\n",
      "290:\tlearn: 2.5637737\ttotal: 4.7s\tremaining: 27.6s\n",
      "300:\tlearn: 2.5636321\ttotal: 4.86s\tremaining: 27.4s\n",
      "310:\tlearn: 2.5634706\ttotal: 4.99s\tremaining: 27.1s\n",
      "320:\tlearn: 2.5633364\ttotal: 5.14s\tremaining: 26.9s\n",
      "330:\tlearn: 2.5632032\ttotal: 5.29s\tremaining: 26.7s\n",
      "340:\tlearn: 2.5630690\ttotal: 5.44s\tremaining: 26.5s\n",
      "350:\tlearn: 2.5629246\ttotal: 5.59s\tremaining: 26.3s\n",
      "360:\tlearn: 2.5627704\ttotal: 5.74s\tremaining: 26.1s\n",
      "370:\tlearn: 2.5626345\ttotal: 5.89s\tremaining: 25.9s\n",
      "380:\tlearn: 2.5625004\ttotal: 6.05s\tremaining: 25.7s\n",
      "390:\tlearn: 2.5623226\ttotal: 6.2s\tremaining: 25.5s\n",
      "400:\tlearn: 2.5621717\ttotal: 6.35s\tremaining: 25.3s\n",
      "410:\tlearn: 2.5620153\ttotal: 6.49s\tremaining: 25.1s\n",
      "420:\tlearn: 2.5618454\ttotal: 6.63s\tremaining: 24.9s\n",
      "430:\tlearn: 2.5616845\ttotal: 6.78s\tremaining: 24.7s\n",
      "440:\tlearn: 2.5615132\ttotal: 6.93s\tremaining: 24.5s\n",
      "450:\tlearn: 2.5613514\ttotal: 7.08s\tremaining: 24.3s\n",
      "460:\tlearn: 2.5611697\ttotal: 7.22s\tremaining: 24.1s\n",
      "470:\tlearn: 2.5609957\ttotal: 7.37s\tremaining: 23.9s\n",
      "480:\tlearn: 2.5608419\ttotal: 7.52s\tremaining: 23.8s\n",
      "490:\tlearn: 2.5606751\ttotal: 7.67s\tremaining: 23.6s\n",
      "500:\tlearn: 2.5604958\ttotal: 7.82s\tremaining: 23.4s\n",
      "510:\tlearn: 2.5603259\ttotal: 7.97s\tremaining: 23.2s\n",
      "520:\tlearn: 2.5601613\ttotal: 8.12s\tremaining: 23.1s\n",
      "530:\tlearn: 2.5600154\ttotal: 8.27s\tremaining: 22.9s\n",
      "540:\tlearn: 2.5598284\ttotal: 8.42s\tremaining: 22.7s\n",
      "550:\tlearn: 2.5596798\ttotal: 8.56s\tremaining: 22.5s\n",
      "560:\tlearn: 2.5595089\ttotal: 8.71s\tremaining: 22.4s\n",
      "570:\tlearn: 2.5593597\ttotal: 8.86s\tremaining: 22.2s\n",
      "580:\tlearn: 2.5592068\ttotal: 9s\tremaining: 22s\n",
      "590:\tlearn: 2.5590396\ttotal: 9.15s\tremaining: 21.8s\n",
      "600:\tlearn: 2.5588924\ttotal: 9.3s\tremaining: 21.6s\n",
      "610:\tlearn: 2.5587511\ttotal: 9.45s\tremaining: 21.5s\n",
      "620:\tlearn: 2.5585890\ttotal: 9.6s\tremaining: 21.3s\n",
      "630:\tlearn: 2.5584286\ttotal: 9.74s\tremaining: 21.1s\n",
      "640:\tlearn: 2.5582551\ttotal: 9.9s\tremaining: 21s\n",
      "650:\tlearn: 2.5581155\ttotal: 10.1s\tremaining: 20.8s\n",
      "660:\tlearn: 2.5579504\ttotal: 10.2s\tremaining: 20.7s\n",
      "670:\tlearn: 2.5578174\ttotal: 10.3s\tremaining: 20.5s\n",
      "680:\tlearn: 2.5576573\ttotal: 10.5s\tremaining: 20.3s\n",
      "690:\tlearn: 2.5575214\ttotal: 10.6s\tremaining: 20.2s\n",
      "700:\tlearn: 2.5573774\ttotal: 10.8s\tremaining: 20s\n",
      "710:\tlearn: 2.5572415\ttotal: 10.9s\tremaining: 19.8s\n",
      "720:\tlearn: 2.5570876\ttotal: 11.1s\tremaining: 19.7s\n",
      "730:\tlearn: 2.5569442\ttotal: 11.3s\tremaining: 19.5s\n",
      "740:\tlearn: 2.5567915\ttotal: 11.4s\tremaining: 19.4s\n",
      "750:\tlearn: 2.5566289\ttotal: 11.5s\tremaining: 19.2s\n",
      "760:\tlearn: 2.5564961\ttotal: 11.7s\tremaining: 19s\n",
      "770:\tlearn: 2.5563481\ttotal: 11.8s\tremaining: 18.9s\n",
      "780:\tlearn: 2.5562251\ttotal: 12s\tremaining: 18.7s\n",
      "790:\tlearn: 2.5560952\ttotal: 12.1s\tremaining: 18.5s\n",
      "800:\tlearn: 2.5559571\ttotal: 12.3s\tremaining: 18.4s\n",
      "810:\tlearn: 2.5558197\ttotal: 12.4s\tremaining: 18.2s\n",
      "820:\tlearn: 2.5556705\ttotal: 12.6s\tremaining: 18s\n",
      "830:\tlearn: 2.5555175\ttotal: 12.7s\tremaining: 17.9s\n",
      "840:\tlearn: 2.5553753\ttotal: 12.9s\tremaining: 17.7s\n",
      "850:\tlearn: 2.5552197\ttotal: 13s\tremaining: 17.6s\n",
      "860:\tlearn: 2.5550915\ttotal: 13.2s\tremaining: 17.4s\n",
      "870:\tlearn: 2.5549344\ttotal: 13.3s\tremaining: 17.2s\n",
      "880:\tlearn: 2.5548010\ttotal: 13.4s\tremaining: 17.1s\n",
      "890:\tlearn: 2.5546500\ttotal: 13.6s\tremaining: 16.9s\n",
      "900:\tlearn: 2.5545221\ttotal: 13.7s\tremaining: 16.8s\n",
      "910:\tlearn: 2.5543789\ttotal: 13.9s\tremaining: 16.6s\n",
      "920:\tlearn: 2.5542385\ttotal: 14s\tremaining: 16.5s\n",
      "930:\tlearn: 2.5540944\ttotal: 14.2s\tremaining: 16.3s\n",
      "940:\tlearn: 2.5539624\ttotal: 14.4s\tremaining: 16.2s\n",
      "950:\tlearn: 2.5538154\ttotal: 14.5s\tremaining: 16s\n",
      "960:\tlearn: 2.5536858\ttotal: 14.7s\tremaining: 15.8s\n",
      "970:\tlearn: 2.5535417\ttotal: 14.8s\tremaining: 15.7s\n",
      "980:\tlearn: 2.5534296\ttotal: 15s\tremaining: 15.5s\n",
      "990:\tlearn: 2.5533075\ttotal: 15.1s\tremaining: 15.4s\n",
      "1000:\tlearn: 2.5531793\ttotal: 15.2s\tremaining: 15.2s\n",
      "1010:\tlearn: 2.5530531\ttotal: 15.4s\tremaining: 15.1s\n",
      "1020:\tlearn: 2.5529310\ttotal: 15.5s\tremaining: 14.9s\n",
      "1030:\tlearn: 2.5528117\ttotal: 15.7s\tremaining: 14.8s\n",
      "1040:\tlearn: 2.5526883\ttotal: 15.9s\tremaining: 14.6s\n",
      "1050:\tlearn: 2.5525628\ttotal: 16s\tremaining: 14.5s\n",
      "1060:\tlearn: 2.5524293\ttotal: 16.2s\tremaining: 14.3s\n",
      "1070:\tlearn: 2.5522947\ttotal: 16.3s\tremaining: 14.1s\n",
      "1080:\tlearn: 2.5521691\ttotal: 16.5s\tremaining: 14s\n",
      "1090:\tlearn: 2.5520348\ttotal: 16.6s\tremaining: 13.8s\n",
      "1100:\tlearn: 2.5519119\ttotal: 16.8s\tremaining: 13.7s\n",
      "1110:\tlearn: 2.5517854\ttotal: 16.9s\tremaining: 13.5s\n",
      "1120:\tlearn: 2.5516618\ttotal: 17.1s\tremaining: 13.4s\n",
      "1130:\tlearn: 2.5515215\ttotal: 17.2s\tremaining: 13.2s\n",
      "1140:\tlearn: 2.5514051\ttotal: 17.4s\tremaining: 13.1s\n",
      "1150:\tlearn: 2.5512763\ttotal: 17.5s\tremaining: 12.9s\n",
      "1160:\tlearn: 2.5511520\ttotal: 17.6s\tremaining: 12.8s\n",
      "1170:\tlearn: 2.5510249\ttotal: 17.8s\tremaining: 12.6s\n",
      "1180:\tlearn: 2.5509120\ttotal: 17.9s\tremaining: 12.4s\n",
      "1190:\tlearn: 2.5507828\ttotal: 18.1s\tremaining: 12.3s\n",
      "1200:\tlearn: 2.5506558\ttotal: 18.2s\tremaining: 12.1s\n",
      "1210:\tlearn: 2.5505312\ttotal: 18.4s\tremaining: 12s\n",
      "1220:\tlearn: 2.5503931\ttotal: 18.5s\tremaining: 11.8s\n",
      "1230:\tlearn: 2.5502477\ttotal: 18.7s\tremaining: 11.7s\n",
      "1240:\tlearn: 2.5501130\ttotal: 18.8s\tremaining: 11.5s\n",
      "1250:\tlearn: 2.5499935\ttotal: 19s\tremaining: 11.4s\n",
      "1260:\tlearn: 2.5498742\ttotal: 19.1s\tremaining: 11.2s\n",
      "1270:\tlearn: 2.5497457\ttotal: 19.3s\tremaining: 11.1s\n",
      "1280:\tlearn: 2.5496413\ttotal: 19.4s\tremaining: 10.9s\n",
      "1290:\tlearn: 2.5495094\ttotal: 19.6s\tremaining: 10.7s\n",
      "1300:\tlearn: 2.5493965\ttotal: 19.7s\tremaining: 10.6s\n",
      "1310:\tlearn: 2.5492805\ttotal: 19.9s\tremaining: 10.4s\n",
      "1320:\tlearn: 2.5491516\ttotal: 20s\tremaining: 10.3s\n",
      "1330:\tlearn: 2.5490330\ttotal: 20.1s\tremaining: 10.1s\n",
      "1340:\tlearn: 2.5489148\ttotal: 20.3s\tremaining: 9.97s\n",
      "1350:\tlearn: 2.5487740\ttotal: 20.4s\tremaining: 9.82s\n",
      "1360:\tlearn: 2.5486206\ttotal: 20.6s\tremaining: 9.67s\n",
      "1370:\tlearn: 2.5484760\ttotal: 20.7s\tremaining: 9.51s\n",
      "1380:\tlearn: 2.5483726\ttotal: 20.9s\tremaining: 9.36s\n",
      "1390:\tlearn: 2.5482678\ttotal: 21s\tremaining: 9.21s\n",
      "1400:\tlearn: 2.5481559\ttotal: 21.2s\tremaining: 9.06s\n",
      "1410:\tlearn: 2.5480370\ttotal: 21.3s\tremaining: 8.91s\n",
      "1420:\tlearn: 2.5479252\ttotal: 21.5s\tremaining: 8.75s\n",
      "1430:\tlearn: 2.5478167\ttotal: 21.6s\tremaining: 8.6s\n",
      "1440:\tlearn: 2.5477198\ttotal: 21.8s\tremaining: 8.45s\n",
      "1450:\tlearn: 2.5476065\ttotal: 21.9s\tremaining: 8.29s\n",
      "1460:\tlearn: 2.5474697\ttotal: 22.1s\tremaining: 8.14s\n",
      "1470:\tlearn: 2.5473380\ttotal: 22.2s\tremaining: 7.99s\n",
      "1480:\tlearn: 2.5472077\ttotal: 22.4s\tremaining: 7.83s\n",
      "1490:\tlearn: 2.5470856\ttotal: 22.5s\tremaining: 7.68s\n",
      "1500:\tlearn: 2.5469769\ttotal: 22.7s\tremaining: 7.53s\n",
      "1510:\tlearn: 2.5468482\ttotal: 22.8s\tremaining: 7.38s\n",
      "1520:\tlearn: 2.5467354\ttotal: 23s\tremaining: 7.23s\n",
      "1530:\tlearn: 2.5466144\ttotal: 23.1s\tremaining: 7.08s\n",
      "1540:\tlearn: 2.5465033\ttotal: 23.3s\tremaining: 6.93s\n",
      "1550:\tlearn: 2.5463854\ttotal: 23.4s\tremaining: 6.78s\n",
      "1560:\tlearn: 2.5462598\ttotal: 23.6s\tremaining: 6.63s\n",
      "1570:\tlearn: 2.5461419\ttotal: 23.7s\tremaining: 6.47s\n"
     ]
    },
    {
     "name": "stdout",
     "output_type": "stream",
     "text": [
      "1580:\tlearn: 2.5460327\ttotal: 23.9s\tremaining: 6.32s\n",
      "1590:\tlearn: 2.5459111\ttotal: 24s\tremaining: 6.17s\n",
      "1600:\tlearn: 2.5458041\ttotal: 24.2s\tremaining: 6.02s\n",
      "1610:\tlearn: 2.5456975\ttotal: 24.3s\tremaining: 5.87s\n",
      "1620:\tlearn: 2.5456002\ttotal: 24.5s\tremaining: 5.72s\n",
      "1630:\tlearn: 2.5454859\ttotal: 24.6s\tremaining: 5.57s\n",
      "1640:\tlearn: 2.5453756\ttotal: 24.8s\tremaining: 5.42s\n",
      "1650:\tlearn: 2.5452701\ttotal: 24.9s\tremaining: 5.27s\n",
      "1660:\tlearn: 2.5451454\ttotal: 25.1s\tremaining: 5.12s\n",
      "1670:\tlearn: 2.5450213\ttotal: 25.2s\tremaining: 4.96s\n",
      "1680:\tlearn: 2.5449072\ttotal: 25.4s\tremaining: 4.81s\n",
      "1690:\tlearn: 2.5447938\ttotal: 25.5s\tremaining: 4.66s\n",
      "1700:\tlearn: 2.5446793\ttotal: 25.7s\tremaining: 4.51s\n",
      "1710:\tlearn: 2.5445521\ttotal: 25.8s\tremaining: 4.36s\n",
      "1720:\tlearn: 2.5444478\ttotal: 26s\tremaining: 4.21s\n",
      "1730:\tlearn: 2.5443293\ttotal: 26.1s\tremaining: 4.06s\n",
      "1740:\tlearn: 2.5442210\ttotal: 26.3s\tremaining: 3.91s\n",
      "1750:\tlearn: 2.5441129\ttotal: 26.4s\tremaining: 3.76s\n",
      "1760:\tlearn: 2.5440152\ttotal: 26.6s\tremaining: 3.61s\n",
      "1770:\tlearn: 2.5438865\ttotal: 26.7s\tremaining: 3.46s\n",
      "1780:\tlearn: 2.5437779\ttotal: 26.9s\tremaining: 3.31s\n",
      "1790:\tlearn: 2.5436716\ttotal: 27.1s\tremaining: 3.16s\n",
      "1800:\tlearn: 2.5435518\ttotal: 27.2s\tremaining: 3.01s\n",
      "1810:\tlearn: 2.5434340\ttotal: 27.4s\tremaining: 2.86s\n",
      "1820:\tlearn: 2.5433287\ttotal: 27.5s\tremaining: 2.7s\n",
      "1830:\tlearn: 2.5432166\ttotal: 27.7s\tremaining: 2.55s\n",
      "1840:\tlearn: 2.5431017\ttotal: 27.8s\tremaining: 2.4s\n",
      "1850:\tlearn: 2.5429828\ttotal: 27.9s\tremaining: 2.25s\n",
      "1860:\tlearn: 2.5428878\ttotal: 28.1s\tremaining: 2.1s\n",
      "1870:\tlearn: 2.5427714\ttotal: 28.2s\tremaining: 1.95s\n",
      "1880:\tlearn: 2.5426482\ttotal: 28.4s\tremaining: 1.8s\n",
      "1890:\tlearn: 2.5425475\ttotal: 28.5s\tremaining: 1.64s\n",
      "1900:\tlearn: 2.5424487\ttotal: 28.7s\tremaining: 1.49s\n",
      "1910:\tlearn: 2.5423384\ttotal: 28.8s\tremaining: 1.34s\n",
      "1920:\tlearn: 2.5422233\ttotal: 29s\tremaining: 1.19s\n",
      "1930:\tlearn: 2.5421192\ttotal: 29.2s\tremaining: 1.04s\n",
      "1940:\tlearn: 2.5420218\ttotal: 29.3s\tremaining: 891ms\n",
      "1950:\tlearn: 2.5418962\ttotal: 29.5s\tremaining: 740ms\n",
      "1960:\tlearn: 2.5418116\ttotal: 29.6s\tremaining: 589ms\n",
      "1970:\tlearn: 2.5417089\ttotal: 29.7s\tremaining: 438ms\n",
      "1980:\tlearn: 2.5416033\ttotal: 29.9s\tremaining: 287ms\n",
      "1990:\tlearn: 2.5414840\ttotal: 30s\tremaining: 136ms\n",
      "1999:\tlearn: 2.5413873\ttotal: 30.2s\tremaining: 0us\n"
     ]
    },
    {
     "data": {
      "text/plain": [
       "<catboost.core.CatBoostRegressor at 0x1922e9996d0>"
      ]
     },
     "execution_count": 10,
     "metadata": {},
     "output_type": "execute_result"
    }
   ],
   "source": [
    "model.fit(train_x, train_y, verbose=10)"
   ]
  },
  {
   "cell_type": "code",
   "execution_count": 12,
   "id": "052c25e5",
   "metadata": {},
   "outputs": [],
   "source": [
    "test_data = my_ansatz.generate_pairs(512)\n",
    "test_x, test_y = test_data\n",
    "test_x = test_x[:10]\n",
    "test_y = test_y[:10]\n",
    "pred_y = model.predict(test_x)"
   ]
  },
  {
   "cell_type": "code",
   "execution_count": 13,
   "id": "c2ea9e8e",
   "metadata": {},
   "outputs": [],
   "source": [
    "from sklearn.metrics import mean_squared_error"
   ]
  },
  {
   "cell_type": "code",
   "execution_count": 14,
   "id": "08338e8d",
   "metadata": {},
   "outputs": [
    {
     "data": {
      "text/plain": [
       "2.1421405689960067"
      ]
     },
     "execution_count": 14,
     "metadata": {},
     "output_type": "execute_result"
    }
   ],
   "source": [
    "mean_squared_error(test_y, pred_y)"
   ]
  },
  {
   "cell_type": "code",
   "execution_count": 18,
   "id": "464ef508",
   "metadata": {},
   "outputs": [
    {
     "data": {
      "text/plain": [
       "[array([ 0.30273561, -0.17078248,  0.05523593, -0.93602003]),\n",
       " array([0.08954333, 0.7756997 , 0.61440338, 0.1130507 ]),\n",
       " array([ 0.63410259,  0.36542742, -0.49694302, -0.46628782]),\n",
       " array([ 0.040986  , -0.07235624,  0.99653192, -0.00297591]),\n",
       " array([ 0.27934316,  0.44216778, -0.83952903, -0.14712599]),\n",
       " array([ 0.01862471, -0.89556453, -0.4429439 ,  0.0376563 ]),\n",
       " array([ 0.08274542, -0.86367795,  0.15084345, -0.47377194]),\n",
       " array([ 0.5470087 ,  0.37355292, -0.68771952, -0.29712214]),\n",
       " array([ 0.68459107,  0.10602966, -0.10166632, -0.7139725 ]),\n",
       " array([ 0.10112843,  0.52887775, -0.84024376, -0.06365364])]"
      ]
     },
     "execution_count": 18,
     "metadata": {},
     "output_type": "execute_result"
    }
   ],
   "source": [
    "test_x"
   ]
  },
  {
   "cell_type": "code",
   "execution_count": 28,
   "id": "fc135f20",
   "metadata": {},
   "outputs": [
    {
     "data": {
      "text/plain": [
       "[array([ 0.31506781, -0.14809198,  0.0498431 , -0.93611789]),\n",
       " array([0.08246885, 0.77348164, 0.61995015, 0.10289238]),\n",
       " array([ 0.62737301,  0.37146931, -0.50740332, -0.45929896]),\n",
       " array([ 0.03584569, -0.06106142,  0.99748773, -0.0021943 ]),\n",
       " array([ 0.27630567,  0.44367355, -0.83994507, -0.14594945]),\n",
       " array([ 0.02270117, -0.8912699 , -0.45067403,  0.04489468]),\n",
       " array([ 0.07663189, -0.87112292,  0.14413807, -0.46313781]),\n",
       " array([ 0.55620243,  0.36488327, -0.6854439 , -0.29608398]),\n",
       " array([ 0.68926268,  0.10097337, -0.09792398, -0.71072656]),\n",
       " array([ 0.10757374,  0.54141877, -0.83089116, -0.07009635])]"
      ]
     },
     "execution_count": 28,
     "metadata": {},
     "output_type": "execute_result"
    }
   ],
   "source": [
    "[my_ansatz.apply_ansatz(i) for i in pred_y]"
   ]
  },
  {
   "cell_type": "code",
   "execution_count": null,
   "id": "22278940",
   "metadata": {},
   "outputs": [],
   "source": []
  }
 ],
 "metadata": {
  "kernelspec": {
   "display_name": "Python 3 (ipykernel)",
   "language": "python",
   "name": "python3"
  },
  "language_info": {
   "codemirror_mode": {
    "name": "ipython",
    "version": 3
   },
   "file_extension": ".py",
   "mimetype": "text/x-python",
   "name": "python",
   "nbconvert_exporter": "python",
   "pygments_lexer": "ipython3",
   "version": "3.9.7"
  }
 },
 "nbformat": 4,
 "nbformat_minor": 5
}
